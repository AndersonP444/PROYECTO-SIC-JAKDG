{
  "nbformat": 4,
  "nbformat_minor": 0,
  "metadata": {
    "colab": {
      "provenance": []
    },
    "kernelspec": {
      "name": "python3",
      "display_name": "Python 3"
    },
    "language_info": {
      "name": "python"
    }
  },
  "cells": [
    {
      "cell_type": "code",
      "execution_count": 10,
      "metadata": {
        "colab": {
          "base_uri": "https://localhost:8080/"
        },
        "id": "cJWCi-iQ7bM7",
        "outputId": "fd168e99-43af-41f1-af05-676c5b3abdf2"
      },
      "outputs": [
        {
          "output_type": "stream",
          "name": "stdout",
          "text": [
            "Hola bienvenido, esta es una prueba de un deque.\n",
            "El deque esta vacio. En el siguiente apartado ingrese una serie de numeros. \n",
            "deque inicial: []\n",
            "Ingrese un numero: 444\n",
            "Ingrese un numero: 7\n",
            "Ingrese un numero: 33\n",
            "deque actual (elementos aniadidos): [33, 444, 7] \n",
            "primer elemento removido: 33\n",
            "ultimo elemento removido: 7\n",
            "deque actual (elementos removidos): [444] \n"
          ]
        }
      ],
      "source": [
        "class Deque:\n",
        "    def __init__(self):\n",
        "        self.__deque = [] # inicializa una lista vacia para simular el deque\n",
        "\n",
        "    def agg_primero(self, item):\n",
        "        \"\"\"Agregar un elemento a la parte inicial del deque.\"\"\"\n",
        "        self.__deque.insert(0, item) # insertar el elemento al inicio de la lista\n",
        "\n",
        "    def remove_primero(self):\n",
        "        \"\"\"Remover y retornar un elemonto a la parte inicial del deque: \"\"\"\n",
        "        if not self.esta_vacio():\n",
        "            return self.__deque.pop(0) # remover y retornar el primer elemento\n",
        "        else:\n",
        "            raise IndexError(\"Deque vacio, no se puede remover el primer elemento. \")\n",
        "\n",
        "    def agg_ultimo(self, item):\n",
        "        \"\"\"agregar un elemento a la parte final del deque: \"\"\"\n",
        "        self.__deque.append(item) # agregar el ultimo al final de la lista\n",
        "\n",
        "    def remove_ultimo(self):\n",
        "        \"\"\"remover y retornar un elemento a la parte final del deque: \"\"\"\n",
        "        if not self.esta_vacio():\n",
        "            return self.__deque.pop() # remueve y retorna el ultimo elemento\n",
        "        else:\n",
        "            raise IndexError(\"Deque vacio, no se puede remover el ultimo elemento. \")\n",
        "\n",
        "    def esta_vacio(self):\n",
        "        \"\"\"Retornar True si el deque esta vacio, de lo contrario False. \"\"\"\n",
        "        return len(self.__deque) == 0\n",
        "\n",
        "    def tamano(self):\n",
        "        \"\"\"Retorna el numero de elementos del deque. \"\"\"\n",
        "        return len(self.__deque)\n",
        "\n",
        "    def __str__(self):\n",
        "        \"\"\"Devuelve una representacion en string del deque. \"\"\"\n",
        "        return str(self.__deque)\n",
        "\n",
        "deque = Deque()\n",
        "# Imprimimos el deque para ver si tiene algun elemento\n",
        "print(\"\"\"Hola bienvenido, esta es una prueba de un deque.\n",
        "El deque esta vacio. En el siguiente apartado ingrese una serie de numeros. \"\"\")\n",
        "print(f\"deque inicial: {deque}\")\n",
        "\n",
        "# agregar elementos al inicio y final\n",
        "ro = int(input(\"Ingrese un numero: \"))\n",
        "do = int(input(\"Ingrese un numero: \"))\n",
        "roo = int(input(\"Ingrese un numero: \"))\n",
        "deque.agg_primero(ro)\n",
        "deque.agg_ultimo(do)\n",
        "deque.agg_primero(roo)\n",
        "\n",
        "print(f\"deque actual (elementos aniadidos): {deque} \") # muestra el deque actual\n",
        "\n",
        "# remover elementos del inicio y del final\n",
        "primer_elemento = deque.remove_primero()\n",
        "ultimo_elemento = deque.remove_ultimo()\n",
        "\n",
        "print(f\"primer elemento removido: {primer_elemento}\")\n",
        "print(f\"ultimo elemento removido: {ultimo_elemento}\")\n",
        "\n",
        "print(f\"deque actual (elementos removidos): {deque} \") # deque actual despues de las remociones\n",
        ""
      ]
    }
  ]
}